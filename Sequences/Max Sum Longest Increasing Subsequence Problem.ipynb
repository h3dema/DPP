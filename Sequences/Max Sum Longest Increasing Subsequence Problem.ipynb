{
 "cells": [
  {
   "cell_type": "markdown",
   "metadata": {},
   "source": [
    "# LIS\n",
    "\n",
    "Given a sequence of n real numbers $A(1) \\dots A(n)$, find the longest subsequence (not necessarily contiguous) of maximum sum in which the values in the subsequence form a strictly increasing sequence.\n",
    "\n",
    "One example (from Wikipedia) can be seen from  the first 16 terms of the binary Van der Corput sequence, when the numbers in red form a LIS:\n",
    "\n",
    "<span style=\"color:red\">0</span>, 8, 4, 12, <span style=\"color:red\">2</span>, 10, <span style=\"color:red\">6</span>, 14, 1, <span style=\"color:red\">9</span>, 5, 13, 3, <span style=\"color:red\">11</span>, 7, <span style=\"color:red\">15</span>\n",
    "\n",
    "This subsequence $0, 2, 6, 9, 11, 15$ has length six. We can find other solutions with the same length, .e.g. $0, 2, 6, 9, 13, 15$, but not bigger.\n",
    "\n",
    "\n",
    "Ref.: https://en.wikipedia.org/wiki/Longest_increasing_subsequence"
   ]
  },
  {
   "cell_type": "code",
   "execution_count": 1,
   "metadata": {},
   "outputs": [],
   "source": [
    "import numpy as np"
   ]
  },
  {
   "cell_type": "markdown",
   "metadata": {},
   "source": [
    "## Dynamic programming approach\n",
    "\n",
    "Recurrence equation\n",
    "\n",
    "$MSLIS(i)=\\begin{cases}\n",
    "a[i] & \\text{ if } Lower(i) = \\varnothing \\\\ \n",
    "a[i] + \\max \\limits_{j \\in Lower(i)} MSLIS(j) & otherwise \n",
    "\\end{cases}$\n",
    "\n",
    "where $Lower(i) = {1 \\le j < i, a_j < a_i}$"
   ]
  },
  {
   "cell_type": "code",
   "execution_count": 2,
   "metadata": {},
   "outputs": [],
   "source": [
    "def mslis(a: list):\n",
    "    n = len(a)\n",
    " \n",
    "    \"\"\" This function uses an array b (size n). \n",
    "        The element b[i] represents the the max sum until element i\n",
    "        \n",
    "        because a[i] is included in b[i], start b with a[i].       \n",
    "    \"\"\" \n",
    "    b = [a[i] for i in range(n)]  # to save the sum\n",
    "    p = list(range(n))  # to save the sequence\n",
    "\n",
    "    \"\"\" For every 1<=i<=n, compute b[i] \n",
    "        checking whether any subsequence b[j] where j <i\n",
    "        provide a bigger sum plus a[i]\n",
    "    \"\"\"\n",
    "    for i in range(1, n):\n",
    "        for j in range(i):\n",
    "            # if the ith element (current) has value greater than \n",
    "            # jth element --> a[i] can be appended after b[j]\n",
    "            #\n",
    "            # because we want the longest subsequence,\n",
    "            # consider only b[j] >= b[i]\n",
    "            if a[i] > a[j] and b[i] <= b[j] + a[i]:\n",
    "                b[i] = b[j] + a[i]\n",
    "                p[i] = j\n",
    " \n",
    "    # the max sum LIS is the maximum of all b[i]\n",
    "    _sum = max(b)\n",
    "    \n",
    "    idxs = []  # the index of the elements that sum max value\n",
    "    i = b.index(_sum)\n",
    "    while i >= 0:\n",
    "        idxs.insert(0, i)\n",
    "        if p[i] == i:\n",
    "            break\n",
    "        i = p[i]\n",
    "\n",
    "    # finding maximum element in b array\n",
    "    return _sum, idxs"
   ]
  },
  {
   "cell_type": "code",
   "execution_count": 3,
   "metadata": {},
   "outputs": [],
   "source": [
    "# max sum longest increasing subsequece (MSLIS) = 7 \n",
    "# formed by {1, 4, 3}"
   ]
  },
  {
   "cell_type": "code",
   "execution_count": 4,
   "metadata": {},
   "outputs": [
    {
     "name": "stdout",
     "output_type": "stream",
     "text": [
      "Values: 1, 4, 2, 4, 3\n",
      "Sequence sums up to 7:\n",
      "1, 2, 4 = 7\n"
     ]
    }
   ],
   "source": [
    "a = [1, 4, 2, 4, 3]\n",
    "_sum, idx = mslis(a)\n",
    "\n",
    "print('Values: {}'.format(\", \".join([str(i) for i in a])))\n",
    "print(\"Sequence sums up to {}:\".format(_sum))\n",
    "print(\"{} = {}\".format(\", \".join([str(a[i]) for i in idx]),\n",
    "                       sum([a[i] for i in idx]),\n",
    "                       ))"
   ]
  },
  {
   "cell_type": "code",
   "execution_count": 5,
   "metadata": {},
   "outputs": [
    {
     "name": "stdout",
     "output_type": "stream",
     "text": [
      "Values: 0, 8, 4, 12, 2, 10, 6, 14, 1, 9, 5, 13, 3, 11, 7, 15\n",
      "Sequence sums up to 49:\n",
      "0, 8, 12, 14, 15 = 49\n"
     ]
    }
   ],
   "source": [
    "a = [0, 8, 4, 12, 2, 10, 6, 14, 1, 9, 5, 13, 3, 11, 7, 15]\n",
    "_sum, idx = mslis(a)\n",
    "\n",
    "print('Values: {}'.format(\", \".join([str(i) for i in a])))\n",
    "print(\"Sequence sums up to {}:\".format(_sum))\n",
    "print(\"{} = {}\".format(\", \".join([str(a[i]) for i in idx]),\n",
    "                       sum([a[i] for i in idx]),\n",
    "                       ))"
   ]
  },
  {
   "cell_type": "code",
   "execution_count": null,
   "metadata": {},
   "outputs": [],
   "source": []
  }
 ],
 "metadata": {
  "kernelspec": {
   "display_name": "Python 3",
   "language": "python",
   "name": "python3"
  },
  "language_info": {
   "codemirror_mode": {
    "name": "ipython",
    "version": 3
   },
   "file_extension": ".py",
   "mimetype": "text/x-python",
   "name": "python",
   "nbconvert_exporter": "python",
   "pygments_lexer": "ipython3",
   "version": "3.7.7"
  }
 },
 "nbformat": 4,
 "nbformat_minor": 2
}
