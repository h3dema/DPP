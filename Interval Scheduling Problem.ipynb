{
 "cells": [
  {
   "cell_type": "markdown",
   "metadata": {},
   "source": [
    "# Interval Scheduling Problem\n",
    "\n",
    "\n",
    "The interval scheduling problem (also known as the activity\n",
    "selection problem) is that of choosing the optimal subset $P^{\\ast}$ of a set $P = \\{0, . . . , N − 1\\}$ of N processes (or activities) to be executed on a single processor, each process i having a specified interval $(s_i,t_i)$, consisting of a start time $s_i$ and a termination time $t_i$, during which process $i$ is eligible to execute, and also having a weight $w_i$ that is the profit gained if this eligible process is scheduled (selected) for processing. Since there is a single processor, the intervals of the selected processes cannot overlap.\n",
    "\n",
    "This problem can be solved using the nonserial functional equations:\n",
    "\n",
    "$f(p,q) = \\max \\limits_{d \\in P} \\{f(p, s_d) + c(d|p, q) + f(t_d,q)\\}$\n",
    "\n",
    "where $c(d|p, q) = w_d$ if d is “eligible”, i.e. $p \\le s_d$ and $t_d \\le q$; else $c(d|p, q) = 0$.\n",
    "The goal is to solve for $f(0,T)$ given the base cases $f(p, q) = 0$ for $p \\ge q$, where $T ≥ max_i\\{t_i\\}$."
   ]
  },
  {
   "cell_type": "markdown",
   "metadata": {},
   "source": [
    "## Example\n",
    "\n",
    "\n",
    "Assume we are given a set of processes $P = \\{0,1,2,3,4,5\\}$ with start times\n",
    "$(s0, . . . , s5) = (9,8,3,5,2,1)$, termination times $(t0, . . . , t5) = (12,11,10, 7,6,4)$, and weights $(w0, . . . , w5) = (1,2,7,4,4,2)$. \n",
    "\n",
    "For $T = 20$, the goal is $f(0,20) = 8$, where the optimal decisions are to select processes 1, 3, and 5 to be included in $P^{\\ast}$.\n",
    "\n",
    "We note that the initial decision can be to choose any one of these three processes; the other two processes would be chosen in subsequent decisions."
   ]
  },
  {
   "cell_type": "code",
   "execution_count": 1,
   "metadata": {},
   "outputs": [],
   "source": [
    "P = [0, 1, 2, 3, 4, 5]\n",
    "st = [9, 8, 3, 5, 2, 1]\n",
    "tt = [12, 11, 10, 7, 6, 4]\n",
    "w = [1, 2, 7, 4, 4, 2]"
   ]
  },
  {
   "cell_type": "code",
   "execution_count": 5,
   "metadata": {},
   "outputs": [],
   "source": [
    "T = 20"
   ]
  },
  {
   "cell_type": "code",
   "execution_count": 21,
   "metadata": {},
   "outputs": [],
   "source": [
    "# resolvendo a equacao de recorrencia"
   ]
  },
  {
   "cell_type": "code",
   "execution_count": 23,
   "metadata": {},
   "outputs": [
    {
     "name": "stdout",
     "output_type": "stream",
     "text": [
      "f(0, 20) = 8\n"
     ]
    }
   ],
   "source": [
    "# initialize f\n",
    "f = [[0] * (T + 1) for i in range(T + 1)]\n",
    "\n",
    "for p in range(T + 1):\n",
    "    for q in range(T + 1):\n",
    "        f_i = [0] * len(P)\n",
    "        for i in range(len(P)):\n",
    "            sd = st[i]\n",
    "            td = tt[i]\n",
    "            if sd >= p and td <= q:\n",
    "                # eligible process\n",
    "                cd = w[i]\n",
    "            else:\n",
    "                cd = 0\n",
    "            f_i[i] = f[p][sd] + cd + f[td][q]\n",
    "        if p >= q:\n",
    "            f[p][q] = 0\n",
    "        else:\n",
    "            f[p][q] = max(f_i)\n",
    "print(\"f({}, {}) = {}\".format(0, T, f[0][T]))"
   ]
  }
 ],
 "metadata": {
  "kernelspec": {
   "display_name": "Python 3",
   "language": "python",
   "name": "python3"
  },
  "language_info": {
   "codemirror_mode": {
    "name": "ipython",
    "version": 3
   },
   "file_extension": ".py",
   "mimetype": "text/x-python",
   "name": "python",
   "nbconvert_exporter": "python",
   "pygments_lexer": "ipython3",
   "version": "3.7.6"
  }
 },
 "nbformat": 4,
 "nbformat_minor": 4
}
