{
 "cells": [
  {
   "cell_type": "markdown",
   "metadata": {},
   "source": [
    "# Diff\n",
    "\n",
    "Diff compara duas sequencias de caracteres e mostra a diferença entre as duas, isto é, mostra como a primeira string pode ser transformada na segunda sequencia.\n",
    "\n",
    "O resultado é uma sequencia que contem caracteres da string original que existem na segunda string, caracteres com + que são caracteres da segunda string que precisam ser adicionados e caracteres com - que são caracteres da primeira string que precisam ser removidos para gerar o resultado final (a segunda string)."
   ]
  },
  {
   "cell_type": "markdown",
   "metadata": {},
   "source": [
    "The idea is to use the longest common subsequence to find a longest subsequence of characters that occurs on both strings in the same order, that way:\n",
    "* if a character is in the subsequence, just keep it\n",
    "* if a character is not in the subsequence and is in the second string, then it should be added to the result (+)\n",
    "* if a character is not in the subsequence and is in the first string, then it should be removed (-)"
   ]
  },
  {
   "cell_type": "code",
   "execution_count": 3,
   "metadata": {},
   "outputs": [],
   "source": [
    "def lcs(X: str, Y: str):\n",
    "    \"\"\"Function to fill lookup table by finding the length of LCS\n",
    "    of substring X[0..m-1] and Y[0..n-1]\"\"\"\n",
    "    m = len(X)\n",
    "    n = len(Y)\n",
    "    \n",
    "    # first column and row of the lookup table will be all 0\n",
    "    lookup = [[0] * (n + 1) for i in range(m + 1)]\n",
    "        \n",
    "    for i in range(1, m + 1):\n",
    "        # fill the lookup table in bottom-up manner\n",
    "        for j in range(1, n + 1):            \n",
    "            if X[i - 1] == Y[j - 1]:\n",
    "                # if current character of X and Y matches\n",
    "                lookup[i][j] = lookup[i - 1][j - 1] + 1            \n",
    "            else:\n",
    "                # X and Y don't match\n",
    "                lookup[i][j] = max(lookup[i - 1][j], lookup[i][j - 1])\n",
    "    return lookup"
   ]
  },
  {
   "cell_type": "code",
   "execution_count": 23,
   "metadata": {},
   "outputs": [],
   "source": [
    "def diff(X: str, Y: str, m, n, lookup):\n",
    "    \"\"\"O(mn) in time complexity and space\"\"\"\n",
    "    if m > 0 and n > 0 and X[m - 1] == Y[n - 1]:\n",
    "        # if last character of X and Y matches\n",
    "        diff(X, Y, m - 1, n - 1, lookup)\n",
    "        print(\" \", X[m - 1], end=\"\")\n",
    "    elif n > 0 and (m == 0 or lookup[m][n - 1] >= lookup[m - 1][n]):\n",
    "        # current character of Y is not present in X\n",
    "        diff(X, Y, m, n - 1, lookup)\n",
    "        print(\" +{}\".format(Y[n - 1]), end=\"\")\n",
    "    elif m > 0 and (n == 0 or lookup[m][n - 1] < lookup[m - 1][n]):\n",
    "        # current character of X is not present in Y\n",
    "        diff(X, Y, m - 1, n, lookup)\n",
    "        print(\" -{}\".format(X[m - 1]), end=\"\")"
   ]
  },
  {
   "cell_type": "code",
   "execution_count": 22,
   "metadata": {},
   "outputs": [
    {
     "name": "stdout",
     "output_type": "stream",
     "text": [
      "  A  B  C  D +E  F  G -H +I  J -Q +K +R +X +Y  Z"
     ]
    }
   ],
   "source": [
    "X = \"ABCDFGHJQZ\"\n",
    "Y = \"ABCDEFGIJKRXYZ\"\n",
    "diff(X, Y, m=len(X), n=len(Y), lookup=lcs(X, Y))"
   ]
  }
 ],
 "metadata": {
  "kernelspec": {
   "display_name": "Python 3",
   "language": "python",
   "name": "python3"
  },
  "language_info": {
   "codemirror_mode": {
    "name": "ipython",
    "version": 3
   },
   "file_extension": ".py",
   "mimetype": "text/x-python",
   "name": "python",
   "nbconvert_exporter": "python",
   "pygments_lexer": "ipython3",
   "version": "3.7.7"
  }
 },
 "nbformat": 4,
 "nbformat_minor": 2
}
