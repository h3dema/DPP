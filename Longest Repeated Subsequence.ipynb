{
 "cells": [
  {
   "cell_type": "markdown",
   "metadata": {},
   "source": [
    "# Longest Repeated Subsequence - LRS\n",
    "\n",
    "We want to find the longest subsequences of a string that occurs at least twice. It is a variation of Longest Common Subsequence (LCS), where we call LCS(X, X) excluding the cases when index are same ($X[i] = Y[j]$).\n",
    "\n",
    "\n",
    "For example, if we consider the sequence ATACTCGGA, the LRS is 4 (ATCG).\n",
    "\n",
    "- <span style=\"color:red\">A T</span> A <span style=\"color:red\">C</span> T C <span style=\"color:red\">G</span> G A\n",
    "- A T <span style=\"color:red\">A</span> C <span style=\"color:red\">T C</span> G <span style=\"color:red\">G</span> A\n",
    "\n",
    "Note that repeated characters holds different index in the input string."
   ]
  },
  {
   "cell_type": "markdown",
   "metadata": {},
   "source": [
    "## Recurrence equation\n",
    "\n",
    "$LRS[i, j] = \\left\\{\\begin{matrix}\n",
    "0 & \\text{if } i = 0 \\text{ and } j = 0 \\\\ \n",
    "LRS[i-1, j-1] + 1 & \\text{if } X[i] = X[j] \\text{ and } i \\ne j\\\\ \n",
    "\\max \\left (LRS[i-1, j], LRS[i, j-1]  \\right ) & \\text{if } X[i] \\ne X[j]\n",
    "\\end{matrix}\\right.$\n"
   ]
  },
  {
   "cell_type": "code",
   "execution_count": 1,
   "metadata": {},
   "outputs": [],
   "source": [
    "# recursive solution\n",
    "def LRS_R(X: str, m: int, n: int):\n",
    "    # return if we have reached the end of either string\n",
    "    if m == 0 or n == 0:\n",
    "        return 0\n",
    "\n",
    "    # if characters at index m and n matches and index is different\n",
    "    if X[m - 1] == X[n - 1] and m != n:\n",
    "        return LRS_R(X, m - 1, n - 1) + 1\n",
    "\n",
    "    # else if characters at index m and n don't match\n",
    "    return max (LRS_R(X, m, n - 1), LRS_R(X, m - 1, n))"
   ]
  },
  {
   "cell_type": "code",
   "execution_count": 2,
   "metadata": {},
   "outputs": [],
   "source": [
    "def LRS_Recursive(X: str):\n",
    "    return LRS_R(X, len(X), len(X))"
   ]
  },
  {
   "cell_type": "code",
   "execution_count": 3,
   "metadata": {},
   "outputs": [
    {
     "data": {
      "text/plain": [
       "4"
      ]
     },
     "execution_count": 3,
     "metadata": {},
     "output_type": "execute_result"
    }
   ],
   "source": [
    "LRS_Recursive(\"ATACTCGGA\")"
   ]
  },
  {
   "cell_type": "code",
   "execution_count": 4,
   "metadata": {},
   "outputs": [],
   "source": [
    "def LRS(X: str, verbose=False):\n",
    "    # memoization\n",
    "    # lookup table stores solution to already computed sub-problems\n",
    "    n = len(X)\n",
    "    \n",
    "    # lookup[i][j] stores the length of LRS of substring X[0..i-1] and X[0..j-1]\n",
    "    # first column of the lookup table will be all 0\n",
    "    # first row of the lookup table will be all 0\n",
    "    lookup = [[0] * (n + 1) for i in range(n + 1)]\n",
    "\n",
    "    # fill the lookup table in bottom-up manner\n",
    "    for i in range(1, n + 1):\n",
    "        for j in range(1, n + 1):\n",
    "            if X[i - 1] == X[j - 1] and i != j:\n",
    "                # chars at index i and j matches and i is different from j\n",
    "                lookup[i][j] = lookup[i - 1][j - 1] + 1            \n",
    "            else:\n",
    "                # characters at index i and j are different\n",
    "                lookup[i][j] = max(lookup[i - 1][j], lookup[i][j - 1])\n",
    "\n",
    "    if verbose:\n",
    "        # print the lookup matrix\n",
    "        print(\" \" * 5, \" \". join([\"{:>2s}\".format(v) for v in X]))\n",
    "        for i in range(n + 1):\n",
    "            print(\"{:>2s}\".format(X[i-1] if i > 0 else \"\"),  \" \". join([\"{:2d}\".format(v) for v in lookup[i]]))\n",
    "\n",
    "    # LRS will be last entry in the lookup table\n",
    "    return lookup[n][n]"
   ]
  },
  {
   "cell_type": "code",
   "execution_count": 5,
   "metadata": {},
   "outputs": [
    {
     "name": "stdout",
     "output_type": "stream",
     "text": [
      "       A  T  A  C  T  C  G  G  A\n",
      "    0  0  0  0  0  0  0  0  0  0\n",
      " A  0  0  0  1  1  1  1  1  1  1\n",
      " T  0  0  0  1  1  2  2  2  2  2\n",
      " A  0  1  1  1  1  2  2  2  2  3\n",
      " C  0  1  1  1  1  2  3  3  3  3\n",
      " T  0  1  2  2  2  2  3  3  3  3\n",
      " C  0  1  2  2  3  3  3  3  3  3\n",
      " G  0  1  2  2  3  3  3  3  4  4\n",
      " G  0  1  2  2  3  3  3  4  4  4\n",
      " A  0  1  2  3  3  3  3  4  4  4\n"
     ]
    },
    {
     "data": {
      "text/plain": [
       "4"
      ]
     },
     "execution_count": 5,
     "metadata": {},
     "output_type": "execute_result"
    }
   ],
   "source": [
    "LRS(\"ATACTCGGA\", verbose=True)"
   ]
  }
 ],
 "metadata": {
  "kernelspec": {
   "display_name": "Python 3",
   "language": "python",
   "name": "python3"
  },
  "language_info": {
   "codemirror_mode": {
    "name": "ipython",
    "version": 3
   },
   "file_extension": ".py",
   "mimetype": "text/x-python",
   "name": "python",
   "nbconvert_exporter": "python",
   "pygments_lexer": "ipython3",
   "version": "3.7.7"
  }
 },
 "nbformat": 4,
 "nbformat_minor": 2
}
