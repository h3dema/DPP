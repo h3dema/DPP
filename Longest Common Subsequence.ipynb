{
 "cells": [
  {
   "cell_type": "markdown",
   "metadata": {},
   "source": [
    "# Longest common subsequence (LCS)\n",
    "\n",
    "\n",
    "\n",
    "The longest common subsequence (LCS) problem is the problem of finding the longest subsequence common to all sequences in a set of sequences (often just two sequences). The subsequences are not required to occupy consecutive positions within the original sequences.\n",
    "\n",
    "Note: Don't confused it with [longest common substring problem](https://en.wikipedia.org/wiki/Longest_common_substring_problem).\n",
    "\n",
    "Ref. https://en.wikipedia.org/wiki/Longest_common_subsequence_problem"
   ]
  },
  {
   "cell_type": "markdown",
   "metadata": {},
   "source": [
    "## Recursive\n",
    "\n",
    "Time complexity $O(2^{m+n})$.\n",
    "The worst case happens when there is no common subsequence present in X and Y (i.e. LCS is 0) and each recursive call generates two recursive calls. "
   ]
  },
  {
   "cell_type": "code",
   "execution_count": 1,
   "metadata": {},
   "outputs": [],
   "source": [
    "def LCS(X: str, Y: str, m: int, n: int):\n",
    "    # return if we have reached the end of either sequence\n",
    "    if m == 0 or n == 0:\n",
    "        return 0\n",
    "    \n",
    "    # if last character of X and Y matches\n",
    "    if X[m - 1] == Y[n - 1]:\n",
    "        return LCS(X, Y, m - 1, n - 1) + 1\n",
    "\n",
    "    # else if last character of X and Y don't match\n",
    "    return max(LCS(X, Y, m, n - 1), LCS(X, Y, m - 1, n))"
   ]
  },
  {
   "cell_type": "code",
   "execution_count": 2,
   "metadata": {},
   "outputs": [
    {
     "data": {
      "text/plain": [
       "4"
      ]
     },
     "execution_count": 2,
     "metadata": {},
     "output_type": "execute_result"
    }
   ],
   "source": [
    "a = \"ABCBDAB\"\n",
    "b = \"BDCABA\"\n",
    "LCS(a, b, len(a), len(b))\n",
    "# result 4:\n",
    "# * BDAB\n",
    "# * BCAB\n",
    "# * BCBA"
   ]
  },
  {
   "cell_type": "markdown",
   "metadata": {},
   "source": [
    "Recurrence equation\n",
    "\n",
    "$LCS[i, j] = \\left\\{\\begin{matrix}\n",
    "0 & i = 0 \\text{ or } j = 0\\\\ \n",
    "LCS[i-1, j-1] + 1 & \\text{if } X[i] = Y[j]\\\\ \n",
    "\\max \\left ( LCS[i-1, j], LCS[i, j-1] \\right ) & \\text{if } X[i] \\neq Y[j]\n",
    "\\end{matrix}\\right.$\n",
    "\n",
    "\n",
    "The time complexity of above solution is O(mn) and auxiliary space used by the program is $O(mn)$."
   ]
  },
  {
   "cell_type": "code",
   "execution_count": 19,
   "metadata": {},
   "outputs": [],
   "source": [
    "def LCS_DP(X: str, Y: str, verbose=False):\n",
    "    m = len(X)\n",
    "    n = len(Y)\n",
    "\n",
    "    # lookup table stores solution to already computed sub-problems\n",
    "    # i.e. lookup[i][j] stores the length of LCS of substring\n",
    "    # X[0..i-1] and Y[0..j-1]\n",
    "    # first column of the lookup table will be all 0\n",
    "    # first row of the lookup table will be all 0\n",
    "    # thus we create a look with zeros\n",
    "    lookup = [[0] * (n + 1) for i in range(m + 1)]\n",
    "\n",
    "    # fill the lookup table in bottom-up manner\n",
    "    for i in range(1, m+1):\n",
    "        for j in range(1, n+1):\n",
    "            if X[i - 1] == Y[j - 1]:\n",
    "                # if current character of X and Y matches\n",
    "                lookup[i][j] = lookup[i - 1][j - 1] + 1            \n",
    "            else:\n",
    "                # else if current character of X and Y don't match\n",
    "                lookup[i][j] = max(lookup[i - 1][j], lookup[i][j - 1])\n",
    "    if verbose:\n",
    "        # print the lookup matrix\n",
    "        print(\" \" * 5, \" \". join([\"{:>2s}\".format(v) for v in Y]))\n",
    "        for i in range(m + 1):\n",
    "            print(\"{:>2s}\".format(X[i-1] if i > 0 else \"\"),  \" \". join([\"{:2d}\".format(v) for v in lookup[i]]))\n",
    "\n",
    "    # LCS will be last entry in the lookup table\n",
    "    return lookup[m][n]"
   ]
  },
  {
   "cell_type": "code",
   "execution_count": 20,
   "metadata": {},
   "outputs": [
    {
     "name": "stdout",
     "output_type": "stream",
     "text": [
      "       M  Z  J  A  W  X  U  Z\n",
      "    0  0  0  0  0  0  0  0  0\n",
      " X  0  0  0  0  0  0  1  1  1\n",
      " M  0  1  1  1  1  1  1  1  1\n",
      " J  0  1  1  2  2  2  2  2  2\n",
      " Y  0  1  1  2  2  2  2  2  2\n",
      " A  0  1  1  2  3  3  3  3  3\n",
      " U  0  1  1  2  3  3  3  4  4\n",
      " Z  0  1  2  2  3  3  3  4  5\n"
     ]
    },
    {
     "data": {
      "text/plain": [
       "5"
      ]
     },
     "execution_count": 20,
     "metadata": {},
     "output_type": "execute_result"
    }
   ],
   "source": [
    "LCS_DP('XMJYAUZ', 'MZJAWXUZ', verbose=True)"
   ]
  },
  {
   "cell_type": "code",
   "execution_count": 5,
   "metadata": {},
   "outputs": [
    {
     "data": {
      "text/plain": [
       "4"
      ]
     },
     "execution_count": 5,
     "metadata": {},
     "output_type": "execute_result"
    }
   ],
   "source": [
    "LCS_DP('BANANA', 'ATANA')"
   ]
  }
 ],
 "metadata": {
  "kernelspec": {
   "display_name": "Python 3",
   "language": "python",
   "name": "python3"
  },
  "language_info": {
   "codemirror_mode": {
    "name": "ipython",
    "version": 3
   },
   "file_extension": ".py",
   "mimetype": "text/x-python",
   "name": "python",
   "nbconvert_exporter": "python",
   "pygments_lexer": "ipython3",
   "version": "3.7.7"
  }
 },
 "nbformat": 4,
 "nbformat_minor": 2
}
