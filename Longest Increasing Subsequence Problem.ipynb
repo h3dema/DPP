{
 "cells": [
  {
   "cell_type": "markdown",
   "metadata": {},
   "source": [
    "# LIS\n",
    "\n",
    "Given a sequence of n real numbers $A(1) \\dots A(n)$, find a subsequence (not necessarily contiguous) of maximum length in which the values in the subsequence form a strictly increasing sequence.\n",
    "\n",
    "One example (from Wikipedia) can be seen from  the first 16 terms of the binary Van der Corput sequence, when the numbers in red form a LIS:\n",
    "\n",
    "<span style=\"color:red\">0</span>, 8, 4, 12, <span style=\"color:red\">2</span>, 10, <span style=\"color:red\">6</span>, 14, 1, <span style=\"color:red\">9</span>, 5, 13, 3, <span style=\"color:red\">11</span>, 7, <span style=\"color:red\">15</span>\n",
    "\n",
    "This subsequence $0, 2, 6, 9, 11, 15$ has length six. We can find other solutions with the same length, .e.g. $0, 2, 6, 9, 13, 15$, but not bigger.\n",
    "\n",
    "\n",
    "Ref.: https://en.wikipedia.org/wiki/Longest_increasing_subsequence"
   ]
  },
  {
   "cell_type": "code",
   "execution_count": 1,
   "metadata": {},
   "outputs": [],
   "source": [
    "import numpy as np"
   ]
  },
  {
   "cell_type": "code",
   "execution_count": 2,
   "metadata": {},
   "outputs": [],
   "source": [
    "def brute_lis_recursive(a: list, current: int, previous: int):\n",
    "    # Recursively checks every possible subsequence \n",
    "    # and selects the longest of all increasing subsequences.\n",
    "    # In every pass, it either includes the current item or not.\n",
    " \n",
    "    n = len(a)\n",
    "    # No more elements left to include in the subsequence\n",
    "    if current == n:\n",
    "        return 0\n",
    " \n",
    "    # If value of current element is lesser than or \n",
    "    # equal to the previous element, we cannot include it\n",
    "    if a[current] <= previous:\n",
    "        return brute_lis_recursive(a, current + 1, previous);\n",
    " \n",
    "    # else once include and once don't include the current element\n",
    "    # and select the longest increasing subsequences out of these\n",
    "    lv = 1 + brute_lis_recursive(a, current + 1, a[current])\n",
    "    rv = brute_lis_recursive(a, current + 1, previous)\n",
    "    return max(lv, rv)\n",
    "\n",
    "def brute_lis(a: list):    \n",
    "    INT_MIN = -np.inf\n",
    "    # in the first call, previous is initialized with INT_MIN \n",
    "    # because initially there is no selected subsequence, so, no previous element\n",
    "    return brute_lis_recursive(a, 0, INT_MIN)"
   ]
  },
  {
   "cell_type": "markdown",
   "metadata": {},
   "source": [
    "## Dynamic programming approach\n",
    "\n",
    "Recurrence equation\n",
    "\n",
    "$LIS(i)=\\begin{cases}\n",
    "1 & \\text{ if } Lower(i) = \\varnothing \\\\ \n",
    "\\max \\limits_{j \\in Lower(i)} 1 + LIS(j) & otherwise \n",
    "\\end{cases}$\n",
    "\n",
    "where $Lower(i) = {1 \\le j < i, a_j < a_i}$"
   ]
  },
  {
   "cell_type": "code",
   "execution_count": 3,
   "metadata": {},
   "outputs": [],
   "source": [
    "def lis(a: list):\n",
    "    n = len(a)\n",
    " \n",
    "    \"\"\" This function uses an array b (size n). \n",
    "        The element b[i] represents the value of LIS with a[i] as the las element, \n",
    "        i.e., b[i] = LIS of a[0...i]\n",
    "        \n",
    "        because a[i] is included in b[i], start b with 1's.       \n",
    "    \"\"\" \n",
    "    b = [1] * n\n",
    "  \n",
    "    \"\"\" For every 1<=i<=n, compute b[i] \n",
    "        checking whether any subsequence b[j] where j <i\n",
    "        can fit before a[i] and then selecting the maximum out of them\n",
    "    \"\"\"\n",
    "    for i in range(1, n):\n",
    "        for j in range(i):\n",
    "            # if the ith element (current) has value greater than \n",
    "            # jth element --> a[i] can be appended after b[j]\n",
    "            #\n",
    "            # because we want the longest subsequence,\n",
    "            # consider only b[j] >= b[i]\n",
    "            if a[i] > a[j] and b[i] < b[j] + 1:\n",
    "                b[i] = b[j] + 1\n",
    " \n",
    "    # Then the LIS is the maximum of all b[i]\n",
    "    # because the it can end with any element of the array\n",
    " \n",
    "    # finding maximum element in b array\n",
    "    return max(b)"
   ]
  },
  {
   "cell_type": "code",
   "execution_count": 4,
   "metadata": {},
   "outputs": [
    {
     "data": {
      "text/plain": [
       "3"
      ]
     },
     "execution_count": 4,
     "metadata": {},
     "output_type": "execute_result"
    }
   ],
   "source": [
    "# Longest Increasing subsequece (LIS) = 3 formed by {1, 2, 3} or {1, 2, 4}\n",
    "\n",
    "a = [1, 4, 2, 4, 3]\n",
    "brute_lis(a)"
   ]
  },
  {
   "cell_type": "code",
   "execution_count": 5,
   "metadata": {},
   "outputs": [
    {
     "data": {
      "text/plain": [
       "3"
      ]
     },
     "execution_count": 5,
     "metadata": {},
     "output_type": "execute_result"
    }
   ],
   "source": [
    "lis(a)"
   ]
  },
  {
   "cell_type": "code",
   "execution_count": 6,
   "metadata": {},
   "outputs": [
    {
     "data": {
      "text/plain": [
       "6"
      ]
     },
     "execution_count": 6,
     "metadata": {},
     "output_type": "execute_result"
    }
   ],
   "source": [
    "a = [0, 8, 4, 12, 2, 10, 6, 14, 1, 9, 5, 13, 3, 11, 7, 15]\n",
    "lis(a)"
   ]
  }
 ],
 "metadata": {
  "kernelspec": {
   "display_name": "Python 3",
   "language": "python",
   "name": "python3"
  },
  "language_info": {
   "codemirror_mode": {
    "name": "ipython",
    "version": 3
   },
   "file_extension": ".py",
   "mimetype": "text/x-python",
   "name": "python",
   "nbconvert_exporter": "python",
   "pygments_lexer": "ipython3",
   "version": "3.7.7"
  }
 },
 "nbformat": 4,
 "nbformat_minor": 2
}
