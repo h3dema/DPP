{
 "cells": [
  {
   "cell_type": "markdown",
   "metadata": {},
   "source": [
    "# Kadane’s Algorithm or the Maximum Subarray Problem\n",
    "\n",
    "Given a sequence of __n__ real numbers $A(1) \\dots A(n)$, determine a contiguous subsequence $A(i) \\dots A(j)$ for which the sum of elements in the subsequence is maximized."
   ]
  },
  {
   "cell_type": "markdown",
   "metadata": {},
   "source": [
    "## Brute force\n",
    "\n",
    "Our first approach to the problem is to analyze it in a linear fashion, in which we maintain two variables: overall_max and current_max. \n",
    "If adding the current element to current_max results in overall maximum value, we will replace the value of overall_max variable. Otherwise, we will proceed furthere."
   ]
  },
  {
   "cell_type": "code",
   "execution_count": 5,
   "metadata": {},
   "outputs": [],
   "source": [
    "def maxSubarraySum(a: list) -> int:\n",
    "    n = len(a)\n",
    "    \n",
    "    overall_sum=0  # overall maximum subarray sum\n",
    "    new_sum = 0\n",
    " \n",
    "    for i in range(n):\n",
    "        # find the maximum subarray sum of the subarray starting from a[i]\n",
    "        new_sum = 0\n",
    "        for j in range(i, n):\n",
    "            new_sum += a[j]\n",
    " \n",
    "            if new_sum > overall_sum :\n",
    "                overall_sum = new_sum\n",
    " \n",
    "    return overall_sum"
   ]
  },
  {
   "cell_type": "code",
   "execution_count": 7,
   "metadata": {},
   "outputs": [
    {
     "name": "stdout",
     "output_type": "stream",
     "text": [
      "20\n"
     ]
    }
   ],
   "source": [
    "# example 1 - all positive\n",
    "\n",
    "# maximum contiguous subarry= {2, 4, 6, 8}\n",
    "# maximum contiguous subarray sum= 20\n",
    "\n",
    "a = [2, 4, 6, 8]\n",
    "print(maxSubarraySum(a))"
   ]
  },
  {
   "cell_type": "code",
   "execution_count": 9,
   "metadata": {},
   "outputs": [
    {
     "name": "stdout",
     "output_type": "stream",
     "text": [
      "5\n"
     ]
    }
   ],
   "source": [
    "# example 2 - all negative, except one\n",
    "\n",
    "# maximum contiguous subarry= {5}\n",
    "# maximum contiguous subarray sum= 5\n",
    "\n",
    "a = [-2, 3, -7, 5, -9]\n",
    "print(maxSubarraySum(a))"
   ]
  },
  {
   "cell_type": "code",
   "execution_count": 11,
   "metadata": {},
   "outputs": [
    {
     "name": "stdout",
     "output_type": "stream",
     "text": [
      "15\n"
     ]
    }
   ],
   "source": [
    "# mixed values\n",
    "\n",
    "# maximum contiguous subarry= {8, 7}\n",
    "# maximum contiguous subarray sum= 15\n",
    "\n",
    "a = [3, -4, 7, -9, 8, 7]\n",
    "print(maxSubarraySum(a))"
   ]
  },
  {
   "cell_type": "code",
   "execution_count": 12,
   "metadata": {},
   "outputs": [
    {
     "name": "stdout",
     "output_type": "stream",
     "text": [
      "16\n"
     ]
    }
   ],
   "source": [
    "# maximum contiguous subarry= {9, -8, 8, 7}\n",
    "# maximum contiguous subarray sum= 16\n",
    "    \n",
    "a = [3, -4, 9, -8, 8, 7]\n",
    "print(maxSubarraySum(a))"
   ]
  },
  {
   "cell_type": "markdown",
   "metadata": {},
   "source": [
    "# Dynamic programming\n",
    "\n",
    "\n",
    "$s_i = \\max \\{a_i, a_i + s_{i-1} \\}$\n",
    "\n",
    "$f_i = \\max \\left \\{ f_{i-1}, s_i \\right \\}$\n",
    "\n",
    "where $s_0 = 0$ and $f_0 = 0$"
   ]
  },
  {
   "cell_type": "code",
   "execution_count": 30,
   "metadata": {},
   "outputs": [],
   "source": [
    "def kadane(a: list, verbose=False) -> int:\n",
    "    n = len(a)\n",
    "    overall_sum = 0  # overall maximum subarray sum\n",
    "    new_sum = 0  # sum obtained by including the current element\n",
    " \n",
    "    for i in range(n):\n",
    "        # new_sum is the maximum value out of current element \n",
    "        # or the sum of current element\n",
    "        # and the previous sum\n",
    "        if verbose:\n",
    "            print(\"#\", i)\n",
    "            old_sum = new_sum\n",
    "            old_overall_sum = overall_sum\n",
    "    \n",
    "        new_sum = max(a[i], new_sum + a[i])\n",
    "\n",
    "        # if the calculated value of new_sum is greater than \n",
    "        # the overall sum,\n",
    "        # it replaces the overall sum value\n",
    "        overall_sum = max(overall_sum, new_sum)\n",
    "        if verbose:\n",
    "            print(\"s_{}\".format(i), old_sum, \"|\", a[i], old_sum + a[i], \"-->\", new_sum)\n",
    "            print(\"f_{}\".format(i), old_overall_sum, new_sum, \"-->\", overall_sum)\n",
    "            print()\n",
    "\n",
    "    return overall_sum"
   ]
  },
  {
   "cell_type": "code",
   "execution_count": 24,
   "metadata": {},
   "outputs": [
    {
     "name": "stdout",
     "output_type": "stream",
     "text": [
      "20\n"
     ]
    }
   ],
   "source": [
    "# example 1 - all positive\n",
    "\n",
    "# maximum contiguous subarry= {2, 4, 6, 8}\n",
    "# maximum contiguous subarray sum= 20\n",
    "\n",
    "a = [2, 4, 6, 8]\n",
    "print(kadane(a))"
   ]
  },
  {
   "cell_type": "code",
   "execution_count": 31,
   "metadata": {},
   "outputs": [
    {
     "name": "stdout",
     "output_type": "stream",
     "text": [
      "# 0\n",
      "s_0 0 | -2 -2 --> -2\n",
      "f_0 0 -2 --> 0\n",
      "\n",
      "# 1\n",
      "s_1 -2 | 3 1 --> 3\n",
      "f_1 0 3 --> 3\n",
      "\n",
      "# 2\n",
      "s_2 3 | -7 -4 --> -4\n",
      "f_2 3 -4 --> 3\n",
      "\n",
      "# 3\n",
      "s_3 -4 | 5 1 --> 5\n",
      "f_3 3 5 --> 5\n",
      "\n",
      "# 4\n",
      "s_4 5 | -9 -4 --> -4\n",
      "f_4 5 -4 --> 5\n",
      "\n",
      "5\n"
     ]
    }
   ],
   "source": [
    "# example 2 - all negative, except one\n",
    "\n",
    "# maximum contiguous subarry= {5}\n",
    "# maximum contiguous subarray sum= 5\n",
    "\n",
    "a = [-2, 3, -7, 5, -9]\n",
    "print(kadane(a, verbose=True))"
   ]
  },
  {
   "cell_type": "code",
   "execution_count": 32,
   "metadata": {},
   "outputs": [
    {
     "name": "stdout",
     "output_type": "stream",
     "text": [
      "# 0\n",
      "s_0 0 | 3 3 --> 3\n",
      "f_0 0 3 --> 3\n",
      "\n",
      "# 1\n",
      "s_1 3 | -4 -1 --> -1\n",
      "f_1 3 -1 --> 3\n",
      "\n",
      "# 2\n",
      "s_2 -1 | 7 6 --> 7\n",
      "f_2 3 7 --> 7\n",
      "\n",
      "# 3\n",
      "s_3 7 | -9 -2 --> -2\n",
      "f_3 7 -2 --> 7\n",
      "\n",
      "# 4\n",
      "s_4 -2 | 8 6 --> 8\n",
      "f_4 7 8 --> 8\n",
      "\n",
      "# 5\n",
      "s_5 8 | 7 15 --> 15\n",
      "f_5 8 15 --> 15\n",
      "\n",
      "15\n"
     ]
    }
   ],
   "source": [
    "# mixed values\n",
    "\n",
    "# maximum contiguous subarry= {8, 7}\n",
    "# maximum contiguous subarray sum= 15\n",
    "\n",
    "a = [3, -4, 7, -9, 8, 7]\n",
    "print(kadane(a, verbose=True))"
   ]
  },
  {
   "cell_type": "code",
   "execution_count": null,
   "metadata": {},
   "outputs": [],
   "source": []
  }
 ],
 "metadata": {
  "kernelspec": {
   "display_name": "Python 3",
   "language": "python",
   "name": "python3"
  },
  "language_info": {
   "codemirror_mode": {
    "name": "ipython",
    "version": 3
   },
   "file_extension": ".py",
   "mimetype": "text/x-python",
   "name": "python",
   "nbconvert_exporter": "python",
   "pygments_lexer": "ipython3",
   "version": "3.7.7"
  }
 },
 "nbformat": 4,
 "nbformat_minor": 2
}
