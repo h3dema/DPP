{
 "cells": [
  {
   "cell_type": "markdown",
   "metadata": {},
   "source": [
    "# Longest Palindromic Subsequence\n",
    "\n",
    "Recurring equation:\n",
    "\n",
    "$LPS[i \\dots j] = \\left\\{\\begin{matrix}\n",
    "1 & if i =j \\\\ \n",
    "LPS[i+1 \\dots j-1] + 2 & x[i] = x[j] \\\\\n",
    "\\max \\left ( LPS[i+1 \\dots j], LPS[i \\dots j-1] \\right ) & if x[i] \\ne x[j]\n",
    "\\end{matrix}\\right.$"
   ]
  },
  {
   "cell_type": "code",
   "execution_count": 2,
   "metadata": {},
   "outputs": [],
   "source": [
    "def longestPalindrome(X: str, i: int, j: int):\n",
    "    \"\"\"\n",
    "    :param X: string\n",
    "    :param i, j: position in the string\n",
    "    \"\"\"\n",
    "    if i > j:\n",
    "        # base condition\n",
    "        return 0\n",
    "\n",
    "    if i == j:\n",
    "        # if string X has only one character, it is palindrome\n",
    "        return 1\n",
    "\n",
    "    # if last character of the string is same as the first character\n",
    "    if X[i] == X[j]:\n",
    "        # include first and last characters in palindrome\n",
    "        # and recur for the remaining substring X[i+1, j-1]\n",
    "        return longestPalindrome(X, i + 1, j - 1) + 2\n",
    "\n",
    "    # if last character of string is different to the first character\n",
    "\n",
    "    # 1. Remove last character and recur for the remaining substring X[i, j-1]\n",
    "    # 2. Remove first character and recur for the remaining substring X[i+1, j]\n",
    "\n",
    "    # return maximum of the two values\n",
    "    return max(longestPalindrome(X, i, j - 1),\n",
    "               longestPalindrome(X, i + 1, j)\n",
    "               )\n"
   ]
  },
  {
   "cell_type": "code",
   "execution_count": 3,
   "metadata": {},
   "outputs": [
    {
     "ename": "IndexError",
     "evalue": "string index out of range",
     "output_type": "error",
     "traceback": [
      "\u001b[1;31m---------------------------------------------------------------------------\u001b[0m",
      "\u001b[1;31mIndexError\u001b[0m                                Traceback (most recent call last)",
      "\u001b[1;32m<ipython-input-3-abb53d5cc213>\u001b[0m in \u001b[0;36m<module>\u001b[1;34m\u001b[0m\n\u001b[0;32m      1\u001b[0m \u001b[1;31m# answer 5\u001b[0m\u001b[1;33m\u001b[0m\u001b[1;33m\u001b[0m\u001b[1;33m\u001b[0m\u001b[0m\n\u001b[0;32m      2\u001b[0m \u001b[0mX\u001b[0m \u001b[1;33m=\u001b[0m \u001b[1;34m\"ABBDCACB\"\u001b[0m\u001b[1;33m\u001b[0m\u001b[1;33m\u001b[0m\u001b[0m\n\u001b[1;32m----> 3\u001b[1;33m \u001b[0mprint\u001b[0m\u001b[1;33m(\u001b[0m\u001b[1;34m\"The length of Longest Palindromic Subsequence is \"\u001b[0m\u001b[1;33m,\u001b[0m \u001b[0mlongestPalindrome\u001b[0m\u001b[1;33m(\u001b[0m\u001b[0mX\u001b[0m\u001b[1;33m,\u001b[0m \u001b[1;36m0\u001b[0m\u001b[1;33m,\u001b[0m \u001b[0mlen\u001b[0m\u001b[1;33m(\u001b[0m\u001b[0mX\u001b[0m\u001b[1;33m)\u001b[0m\u001b[1;33m)\u001b[0m\u001b[1;33m)\u001b[0m\u001b[1;33m\u001b[0m\u001b[1;33m\u001b[0m\u001b[0m\n\u001b[0m",
      "\u001b[1;32m<ipython-input-2-6ee41a9ca101>\u001b[0m in \u001b[0;36mlongestPalindrome\u001b[1;34m(X, i, j)\u001b[0m\n\u001b[0;32m     13\u001b[0m \u001b[1;33m\u001b[0m\u001b[0m\n\u001b[0;32m     14\u001b[0m     \u001b[1;31m# if last character of the string is same as the first character\u001b[0m\u001b[1;33m\u001b[0m\u001b[1;33m\u001b[0m\u001b[1;33m\u001b[0m\u001b[0m\n\u001b[1;32m---> 15\u001b[1;33m     \u001b[1;32mif\u001b[0m \u001b[0mX\u001b[0m\u001b[1;33m[\u001b[0m\u001b[0mi\u001b[0m\u001b[1;33m]\u001b[0m \u001b[1;33m==\u001b[0m \u001b[0mX\u001b[0m\u001b[1;33m[\u001b[0m\u001b[0mj\u001b[0m\u001b[1;33m]\u001b[0m\u001b[1;33m:\u001b[0m\u001b[1;33m\u001b[0m\u001b[1;33m\u001b[0m\u001b[0m\n\u001b[0m\u001b[0;32m     16\u001b[0m         \u001b[1;31m# include first and last characters in palindrome\u001b[0m\u001b[1;33m\u001b[0m\u001b[1;33m\u001b[0m\u001b[1;33m\u001b[0m\u001b[0m\n\u001b[0;32m     17\u001b[0m         \u001b[1;31m# and recur for the remaining substring X[i+1, j-1]\u001b[0m\u001b[1;33m\u001b[0m\u001b[1;33m\u001b[0m\u001b[1;33m\u001b[0m\u001b[0m\n",
      "\u001b[1;31mIndexError\u001b[0m: string index out of range"
     ]
    }
   ],
   "source": [
    "# answer 5\n",
    "X = \"ABBDCACB\"\n",
    "print(\"The length of Longest Palindromic Subsequence is \", longestPalindrome(X, 0, len(X)))"
   ]
  }
 ],
 "metadata": {
  "kernelspec": {
   "display_name": "Python 3",
   "language": "python",
   "name": "python3"
  },
  "language_info": {
   "codemirror_mode": {
    "name": "ipython",
    "version": 3
   },
   "file_extension": ".py",
   "mimetype": "text/x-python",
   "name": "python",
   "nbconvert_exporter": "python",
   "pygments_lexer": "ipython3",
   "version": "3.7.7"
  }
 },
 "nbformat": 4,
 "nbformat_minor": 2
}
