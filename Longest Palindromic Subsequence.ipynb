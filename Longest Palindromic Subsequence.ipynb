{
 "cells": [
  {
   "cell_type": "markdown",
   "metadata": {},
   "source": [
    "# Longest Palindromic Subsequence\n",
    "\n",
    "\n",
    "This problem consists in finding a maximum-length contiguous substring of a given string ($X$) that is also a palindrome.\n",
    "\n",
    "\n",
    "Recurring equation:\n",
    "\n",
    "$LPS[i \\dots j] = \\left\\{\\begin{matrix}\n",
    "1 & \\text{if } i = j \\\\ \n",
    "LPS[i+1 \\dots j-1] + 2 & X[i] = X[j] \\\\\n",
    "\\max \\left ( LPS[i+1 \\dots j], LPS[i \\dots j-1] \\right ) & \\text{if } X[i] \\ne X[j]\n",
    "\\end{matrix}\\right.$\n",
    "\n",
    "\n",
    "ref. https://en.wikipedia.org/wiki/Longest_palindromic_substring"
   ]
  },
  {
   "cell_type": "code",
   "execution_count": 12,
   "metadata": {},
   "outputs": [],
   "source": [
    "def LPS_recursive(X: str, i: int, j: int):\n",
    "    \"\"\"\n",
    "    :param X: string\n",
    "    :param i, j: position in the string\n",
    "    \"\"\"\n",
    "    if i > j:\n",
    "        # base condition\n",
    "        return 0\n",
    "\n",
    "    if i == j:\n",
    "        # if string X has only one character, it is palindrome\n",
    "        return 1\n",
    "\n",
    "    # if last character of the string is same as the first character\n",
    "    if X[i] == X[j]:\n",
    "        # includes first and last characters in palindrome\n",
    "        # and recurs for the remaining substring X[i+1, j-1]\n",
    "        return LPS_recursive(X, i + 1, j - 1) + 2\n",
    "\n",
    "    # if last character of string is different to the first character\n",
    "\n",
    "    # 1. Remove last character and recur for the remaining substring X[i, j-1]\n",
    "    # 2. Remove first character and recur for the remaining substring X[i+1, j]\n",
    "\n",
    "    # return maximum of the two values\n",
    "    return max(LPS_recursive(X, i, j - 1), LPS_recursive(X, i + 1, j))\n",
    "\n",
    "def LPS(X:str):\n",
    "    return LPS_recursive(X, 0, len(X) - 1)"
   ]
  },
  {
   "cell_type": "code",
   "execution_count": 13,
   "metadata": {},
   "outputs": [
    {
     "name": "stdout",
     "output_type": "stream",
     "text": [
      "The length of Longest Palindromic Subsequence is  5\n"
     ]
    }
   ],
   "source": [
    "# answer 5\n",
    "X = \"ABBDCACB\"\n",
    "print(\"The length of Longest Palindromic Subsequence is \", LPS(X))"
   ]
  },
  {
   "cell_type": "code",
   "execution_count": null,
   "metadata": {},
   "outputs": [],
   "source": []
  }
 ],
 "metadata": {
  "kernelspec": {
   "display_name": "Python 3",
   "language": "python",
   "name": "python3"
  },
  "language_info": {
   "codemirror_mode": {
    "name": "ipython",
    "version": 3
   },
   "file_extension": ".py",
   "mimetype": "text/x-python",
   "name": "python",
   "nbconvert_exporter": "python",
   "pygments_lexer": "ipython3",
   "version": "3.7.7"
  }
 },
 "nbformat": 4,
 "nbformat_minor": 2
}
